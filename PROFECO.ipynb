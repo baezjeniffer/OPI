{
 "cells": [
  {
   "cell_type": "markdown",
   "metadata": {},
   "source": [
    "# Sección 2. Quién es quién"
   ]
  },
  {
   "cell_type": "markdown",
   "metadata": {},
   "source": [
    "Descarga la Base de datos histórica de Quién es Quién en los Precios de Profeco y resuelve los\n",
    "siguientes incisos. Para el procesamiento de los datos y el análisis exploratorio debes debes\n",
    "usar Spark SQL, preferentemente, con Python.\n",
    "\n",
    "1. Procesamiento de los datos\n",
    "\n",
    "    a. ¿Cuántos registros hay?\n",
    "    b. ¿Cuántas categorías?\n",
    "    c. ¿Cuántas cadenas comerciales están siendo monitoreadas?\n",
    "    d. ¿Cómo podrías determinar la calidad de los datos? ¿Detectaste algún tipo de\n",
    "    inconsistencia o error en la fuente?\n",
    "    e. ¿Cuáles son los productos más monitoreados en cada entidad?\n",
    "    f. ¿Cuál es la cadena comercial con mayor variedad de productos monitoreados?\n",
    "    \n",
    "2. Análisis exploratorio\n",
    "    a. Genera una canasta de productos básicos que te permita comparar los precios\n",
    "    geográfica y temporalmente. Justifica tu elección y procedimiento\n",
    "    b. ¿Cuál es la ciudad más cara del país?¿Cuál es la más barata?\n",
    "    c. ¿Hay algún patrón estacional entre años?\n",
    "    d. ¿Cuál es el estado más caro y en qué mes?\n",
    "    e. ¿Cuáles son los principales riesgos de hacer análisis de series de tiempo con\n",
    "    estos datos?\n",
    "    \n",
    "3. Visualización\n",
    "    a. Genera un mapa que nos permita identificar la oferta de categorías en la zona\n",
    "    metropolitana de León Guanajuato y el nivel de precios en cada una de ellas. Se\n",
    "    darán puntos extra si el mapa es interactivo"
   ]
  },
  {
   "cell_type": "markdown",
   "metadata": {},
   "source": [
    "# Librerías, sesión y datos"
   ]
  },
  {
   "cell_type": "code",
   "execution_count": 52,
   "metadata": {},
   "outputs": [],
   "source": [
    "from pyspark.sql import SparkSession\n",
    "import pyspark.sql.functions as f\n",
    "import matplotlib.pyplot as plt\n",
    "import seaborn as sns\n",
    "import pandas as pd"
   ]
  },
  {
   "cell_type": "code",
   "execution_count": 4,
   "metadata": {},
   "outputs": [],
   "source": [
    "spark = SparkSession.builder.appName('opi').master(\"local[*]\").getOrCreate()"
   ]
  },
  {
   "cell_type": "code",
   "execution_count": 5,
   "metadata": {},
   "outputs": [
    {
     "data": {
      "text/plain": [
       "'3.1.2'"
      ]
     },
     "execution_count": 5,
     "metadata": {},
     "output_type": "execute_result"
    }
   ],
   "source": [
    "spark.version"
   ]
  },
  {
   "cell_type": "code",
   "execution_count": 6,
   "metadata": {},
   "outputs": [],
   "source": [
    "path_profeco = 'data/profeco/all_data.csv'"
   ]
  },
  {
   "cell_type": "code",
   "execution_count": 7,
   "metadata": {},
   "outputs": [],
   "source": [
    "profeco = spark.read.csv(path_profeco,sep=',',header=True)"
   ]
  },
  {
   "cell_type": "code",
   "execution_count": 9,
   "metadata": {},
   "outputs": [
    {
     "name": "stdout",
     "output_type": "stream",
     "text": [
      "root\n",
      " |-- producto: string (nullable = true)\n",
      " |-- presentacion: string (nullable = true)\n",
      " |-- marca: string (nullable = true)\n",
      " |-- categoria: string (nullable = true)\n",
      " |-- catalogo: string (nullable = true)\n",
      " |-- precio: string (nullable = true)\n",
      " |-- fechaRegistro: string (nullable = true)\n",
      " |-- cadenaComercial: string (nullable = true)\n",
      " |-- giro: string (nullable = true)\n",
      " |-- nombreComercial: string (nullable = true)\n",
      " |-- direccion: string (nullable = true)\n",
      " |-- estado: string (nullable = true)\n",
      " |-- municipio: string (nullable = true)\n",
      " |-- latitud: string (nullable = true)\n",
      " |-- longitud: string (nullable = true)\n",
      "\n"
     ]
    }
   ],
   "source": [
    "profeco.printSchema()"
   ]
  },
  {
   "cell_type": "markdown",
   "metadata": {},
   "source": [
    "# Cuestionario"
   ]
  },
  {
   "cell_type": "markdown",
   "metadata": {},
   "source": [
    "## Procesamiento de los datos"
   ]
  },
  {
   "cell_type": "markdown",
   "metadata": {},
   "source": [
    "### a. ¿Cuántos registros hay?"
   ]
  },
  {
   "cell_type": "code",
   "execution_count": 10,
   "metadata": {},
   "outputs": [
    {
     "data": {
      "text/plain": [
       "35559916"
      ]
     },
     "execution_count": 10,
     "metadata": {},
     "output_type": "execute_result"
    }
   ],
   "source": [
    "profeco.count()"
   ]
  },
  {
   "cell_type": "markdown",
   "metadata": {},
   "source": [
    "### b. ¿Cuántas categorías?"
   ]
  },
  {
   "cell_type": "code",
   "execution_count": 13,
   "metadata": {},
   "outputs": [
    {
     "data": {
      "text/plain": [
       "DataFrame[producto: string, presentacion: string, marca: string, categoria: string, catalogo: string, precio: string, fechaRegistro: string, cadenaComercial: string, giro: string, nombreComercial: string, direccion: string, estado: string, municipio: string, latitud: string, longitud: string]"
      ]
     },
     "execution_count": 13,
     "metadata": {},
     "output_type": "execute_result"
    }
   ],
   "source": [
    "profeco.cache()"
   ]
  },
  {
   "cell_type": "code",
   "execution_count": 20,
   "metadata": {},
   "outputs": [
    {
     "data": {
      "text/plain": [
       "41"
      ]
     },
     "execution_count": 20,
     "metadata": {},
     "output_type": "execute_result"
    }
   ],
   "source": [
    "profeco.select('categoria').distinct().count()"
   ]
  },
  {
   "cell_type": "markdown",
   "metadata": {},
   "source": [
    "### c. ¿Cuántas cadenas comerciales están siendo monitoreadas?"
   ]
  },
  {
   "cell_type": "code",
   "execution_count": 21,
   "metadata": {},
   "outputs": [
    {
     "data": {
      "text/plain": [
       "607"
      ]
     },
     "execution_count": 21,
     "metadata": {},
     "output_type": "execute_result"
    }
   ],
   "source": [
    "profeco.select('cadenaComercial').distinct().count()"
   ]
  },
  {
   "cell_type": "markdown",
   "metadata": {},
   "source": [
    "### d. ¿Cómo podrías determinar la calidad de los datos? ¿Detectaste algún tipo de inconsistencia o error en la fuente?"
   ]
  },
  {
   "cell_type": "code",
   "execution_count": 22,
   "metadata": {},
   "outputs": [
    {
     "name": "stdout",
     "output_type": "stream",
     "text": [
      "root\n",
      " |-- producto: string (nullable = true)\n",
      " |-- presentacion: string (nullable = true)\n",
      " |-- marca: string (nullable = true)\n",
      " |-- categoria: string (nullable = true)\n",
      " |-- catalogo: string (nullable = true)\n",
      " |-- precio: string (nullable = true)\n",
      " |-- fechaRegistro: string (nullable = true)\n",
      " |-- cadenaComercial: string (nullable = true)\n",
      " |-- giro: string (nullable = true)\n",
      " |-- nombreComercial: string (nullable = true)\n",
      " |-- direccion: string (nullable = true)\n",
      " |-- estado: string (nullable = true)\n",
      " |-- municipio: string (nullable = true)\n",
      " |-- latitud: string (nullable = true)\n",
      " |-- longitud: string (nullable = true)\n",
      "\n"
     ]
    }
   ],
   "source": [
    "profeco.printSchema()"
   ]
  },
  {
   "cell_type": "markdown",
   "metadata": {},
   "source": [
    "1. Identificador llave única\n",
    "2. Tipos de datos acorde al negocio\n",
    "3. Variables categóricas sigan un estándar, de preferencia que exista un diccionario de datos para confirmar el cumplimiento\n",
    "4. Fechas registo a partir de 2015\n",
    "5. Precio con el mismo tipo de cambio\n",
    "6. Detección de outliers para precio acorde al precios históricos por producto\n",
    "7. Latitud y longitud entre -90,90 y -180,180 respectivamente.\n",
    "8. Ubicar las columnas que no hagan sentido que tengan missing values (ejemplo, precios, nombre de producto, fecha de registro, etc)\n",
    "9. La suma de producto únicos debe ser igual a 2000\n"
   ]
  },
  {
   "cell_type": "code",
   "execution_count": 24,
   "metadata": {},
   "outputs": [
    {
     "name": "stdout",
     "output_type": "stream",
     "text": [
      "+-------+--------------------+--------------------+--------------------+--------------------+----------------+------------------+--------------------+----------------+--------------------+--------------------+--------------------+--------------+--------------------+------------------+------------------+\n",
      "|summary|            producto|        presentacion|               marca|           categoria|        catalogo|            precio|       fechaRegistro| cadenaComercial|                giro|     nombreComercial|           direccion|        estado|           municipio|           latitud|          longitud|\n",
      "+-------+--------------------+--------------------+--------------------+--------------------+----------------+------------------+--------------------+----------------+--------------------+--------------------+--------------------+--------------+--------------------+------------------+------------------+\n",
      "|  count|            35559916|            35559916|            35559916|            35559916|        35559687|          35559915|            35559915|        35558731|            35559670|            35559915|            35559915|      35550019|            35550019|          35559915|          35559915|\n",
      "|   mean|                null|    96872.0884185773|              1880.0|                null|            null|483.70102191538103|                null|            null|                null|                null|                null|          null|                null|23.680633137916104|-99.78404114034102|\n",
      "| stddev|                null|   39934.12622245747|                 0.0|                null|            null| 1900.495892081737|                null|            null|                null|                null|                null|          null|                null|287.16302209544256|10.879650564754014|\n",
      "|    min|\"PREMARIN. CREMA ...|# 6017872 O C.B. ...|'PAPER MATE. ERAS...|ACCESORIOS DOMEST...|         BASICOS|               0.1|2011-01-03 00:00:...|        7 ELEVEN|ARTICULOS DEPORTIVOS|7 ELEVEN SUCURSAL...|\"ORIENTE 100 \"\"\"\"...| ESQ. SUR 125\"|ACAPULCO DE JUARE...|         14.874144|       -100.220247|\n",
      "|    max|             ZYPREXA|´0280808. PATIN/S...|             iO MABE|     VINOS Y LICORES|UTILES ESCOLARES|             99999|2014-12-27 00:00:...|ZARAGOZA MUEBLES|           ZAPATERIA|ZARAGOZA MUEBLES ...|ZURICH NO. 1039, ...|     ZACATECAS|ZINACANTEPEC     ...|                NA|                NA|\n",
      "+-------+--------------------+--------------------+--------------------+--------------------+----------------+------------------+--------------------+----------------+--------------------+--------------------+--------------------+--------------+--------------------+------------------+------------------+\n",
      "\n"
     ]
    }
   ],
   "source": [
    "profeco.describe().show()"
   ]
  },
  {
   "cell_type": "markdown",
   "metadata": {},
   "source": [
    "Problemas detectados para calidad de datos:\n",
    "\n",
    "* Hay registros menores al 2015, por lo cual no siguen la descripción de la tabla dada en la paltaforma\n",
    "* Posible outlier para precio (99999)"
   ]
  },
  {
   "cell_type": "markdown",
   "metadata": {},
   "source": [
    "### e. ¿Cuáles son los productos más monitoreados en cada entidad?"
   ]
  },
  {
   "cell_type": "code",
   "execution_count": 43,
   "metadata": {},
   "outputs": [],
   "source": [
    "profeco_estado = profeco.groupBy(['producto','estado']).count()"
   ]
  },
  {
   "cell_type": "code",
   "execution_count": 47,
   "metadata": {
    "scrolled": true
   },
   "outputs": [
    {
     "name": "stdout",
     "output_type": "stream",
     "text": [
      "+-----------------------+----------------+------+\n",
      "|producto               |estado          |count |\n",
      "+-----------------------+----------------+------+\n",
      "|REFRESCO               |DISTRITO FEDERAL|167433|\n",
      "|FUD                    |DISTRITO FEDERAL|125314|\n",
      "|DETERGENTE P/ROPA      |DISTRITO FEDERAL|124266|\n",
      "|LECHE ULTRAPASTEURIZADA|DISTRITO FEDERAL|116485|\n",
      "|REFRESCO               |MÉXICO          |114390|\n",
      "|DETERGENTE P/ROPA      |MÉXICO          |95734 |\n",
      "|FUD                    |MÉXICO          |89881 |\n",
      "|MAYONESA               |DISTRITO FEDERAL|87744 |\n",
      "|YOGHURT                |DISTRITO FEDERAL|86456 |\n",
      "|CHILES EN LATA         |DISTRITO FEDERAL|86003 |\n",
      "|CERVEZA                |DISTRITO FEDERAL|85369 |\n",
      "|JABON DE TOCADOR       |DISTRITO FEDERAL|84010 |\n",
      "|SHAMPOO                |DISTRITO FEDERAL|81310 |\n",
      "|LECHE ULTRAPASTEURIZADA|MÉXICO          |77060 |\n",
      "|LECHE EN POLVO         |DISTRITO FEDERAL|74743 |\n",
      "|TOALLA FEMENINA        |DISTRITO FEDERAL|69730 |\n",
      "|HUEVO                  |DISTRITO FEDERAL|68476 |\n",
      "|DESODORANTE            |DISTRITO FEDERAL|68074 |\n",
      "|PAN DE CAJA            |DISTRITO FEDERAL|64284 |\n",
      "|JABON DE TOCADOR       |MÉXICO          |63001 |\n",
      "+-----------------------+----------------+------+\n",
      "only showing top 20 rows\n",
      "\n"
     ]
    }
   ],
   "source": [
    "profeco_estado.sort(profeco_estado[\"count\"].desc()).show(truncate=False)"
   ]
  },
  {
   "cell_type": "markdown",
   "metadata": {},
   "source": [
    "### f. ¿Cuál es la cadena comercial con mayor variedad de productos monitoreados?"
   ]
  },
  {
   "cell_type": "code",
   "execution_count": 55,
   "metadata": {},
   "outputs": [
    {
     "name": "stdout",
     "output_type": "stream",
     "text": [
      "+---------------+---------------+\n",
      "|cadenaComercial|count(producto)|\n",
      "+---------------+---------------+\n",
      "|SORIANA        |1037           |\n",
      "+---------------+---------------+\n",
      "only showing top 1 row\n",
      "\n"
     ]
    }
   ],
   "source": [
    "profeco_cadcom_prod = profeco.groupBy(\"cadenaComercial\").agg(f.countDistinct(\"producto\"))\n",
    "profeco_cadcom_prod.sort(profeco_cadcom_prod[\"count(producto)\"].desc()).show(1,truncate=False)"
   ]
  },
  {
   "cell_type": "markdown",
   "metadata": {},
   "source": [
    "## Análisis exploratorio"
   ]
  },
  {
   "cell_type": "code",
   "execution_count": null,
   "metadata": {},
   "outputs": [],
   "source": [
    "2. Análisis exploratorio\n",
    "    a. Genera una canasta de productos básicos que te permita comparar los precios\n",
    "    geográfica y temporalmente. Justifica tu elección y procedimiento\n",
    "    b. ¿Cuál es la ciudad más cara del país?¿Cuál es la más barata?\n",
    "    c. ¿Hay algún patrón estacional entre años?\n",
    "    d. ¿Cuál es el estado más caro y en qué mes?\n",
    "    e. ¿Cuáles son los principales riesgos de hacer análisis de series de tiempo con\n",
    "    estos datos?"
   ]
  },
  {
   "cell_type": "markdown",
   "metadata": {},
   "source": [
    "### a. Genera una canasta de productos básicos que te permita comparar los precios  geográfica y temporalmente. Justifica tu elección y procedimiento"
   ]
  },
  {
   "cell_type": "markdown",
   "metadata": {},
   "source": [
    "1. Los que más ventas tienen\n",
    "2. Más periodos de ventas (aniomes)\n",
    "3. Se encuentran en la mayoría de los estados"
   ]
  },
  {
   "cell_type": "code",
   "execution_count": 85,
   "metadata": {},
   "outputs": [],
   "source": [
    "producto_ventas = profeco.filter(f.col(\"catalogo\") == 'BASICOS').groupBy(\"producto\",\"catalogo\").agg(f.count(\"producto\"))\n",
    "producto_ventas = producto_ventas.sort(producto_ventas[\"count(producto)\"].desc())"
   ]
  },
  {
   "cell_type": "code",
   "execution_count": 86,
   "metadata": {},
   "outputs": [
    {
     "name": "stdout",
     "output_type": "stream",
     "text": [
      "+--------------------+--------+---------------+\n",
      "|            producto|catalogo|count(producto)|\n",
      "+--------------------+--------+---------------+\n",
      "|            REFRESCO| BASICOS|         606666|\n",
      "|LECHE ULTRAPASTEU...| BASICOS|         544650|\n",
      "|   DETERGENTE P/ROPA| BASICOS|         536527|\n",
      "|                 FUD| BASICOS|         445940|\n",
      "|      CHILES EN LATA| BASICOS|         410854|\n",
      "|             SHAMPOO| BASICOS|         403600|\n",
      "|            MAYONESA| BASICOS|         368412|\n",
      "|             YOGHURT| BASICOS|         351895|\n",
      "|     TOALLA FEMENINA| BASICOS|         338932|\n",
      "|         DESODORANTE| BASICOS|         327034|\n",
      "|      LECHE EN POLVO| BASICOS|         323104|\n",
      "|             CERVEZA| BASICOS|         311614|\n",
      "|         PAN DE CAJA| BASICOS|         286954|\n",
      "|              ACEITE| BASICOS|         281605|\n",
      "|        AGUA SIN GAS| BASICOS|         273015|\n",
      "|    JABON DE TOCADOR| BASICOS|         269153|\n",
      "|       CREMA LIQUIDA| BASICOS|         245520|\n",
      "| INSECTICIDA AEROSOL| BASICOS|         239570|\n",
      "|                 KIR| BASICOS|         239190|\n",
      "|           MARGARINA| BASICOS|         229183|\n",
      "+--------------------+--------+---------------+\n",
      "only showing top 20 rows\n",
      "\n"
     ]
    }
   ],
   "source": [
    "producto_ventas.show()"
   ]
  },
  {
   "cell_type": "code",
   "execution_count": 87,
   "metadata": {},
   "outputs": [
    {
     "data": {
      "text/plain": [
       "195"
      ]
     },
     "execution_count": 87,
     "metadata": {},
     "output_type": "execute_result"
    }
   ],
   "source": [
    "producto_ventas.count()"
   ]
  },
  {
   "cell_type": "code",
   "execution_count": 88,
   "metadata": {},
   "outputs": [],
   "source": [
    "producto_ventas = producto_ventas.toPandas()  # symboling is the column for histogram"
   ]
  },
  {
   "cell_type": "code",
   "execution_count": 89,
   "metadata": {},
   "outputs": [
    {
     "data": {
      "text/plain": [
       "<AxesSubplot:ylabel='Frequency'>"
      ]
     },
     "execution_count": 89,
     "metadata": {},
     "output_type": "execute_result"
    },
    {
     "data": {
      "image/png": "[encoded data removed]",
      "text/plain": [
       "<Figure size 432x288 with 1 Axes>"
      ]
     },
     "metadata": {
      "needs_background": "light"
     },
     "output_type": "display_data"
    }
   ],
   "source": [
    "producto_ventas.plot(kind='hist')"
   ]
  },
  {
   "cell_type": "markdown",
   "metadata": {},
   "source": [
    "Como primer filtro, tomaremos los productos que más registros tienen haciendo un corte"
   ]
  },
  {
   "cell_type": "code",
   "execution_count": 139,
   "metadata": {},
   "outputs": [
    {
     "name": "stdout",
     "output_type": "stream",
     "text": [
      "root\n",
      " |-- producto: string (nullable = true)\n",
      " |-- presentacion: string (nullable = true)\n",
      " |-- marca: string (nullable = true)\n",
      " |-- categoria: string (nullable = true)\n",
      " |-- catalogo: string (nullable = true)\n",
      " |-- precio: string (nullable = true)\n",
      " |-- fechaRegistro: string (nullable = true)\n",
      " |-- cadenaComercial: string (nullable = true)\n",
      " |-- giro: string (nullable = true)\n",
      " |-- nombreComercial: string (nullable = true)\n",
      " |-- direccion: string (nullable = true)\n",
      " |-- estado: string (nullable = true)\n",
      " |-- municipio: string (nullable = true)\n",
      " |-- latitud: string (nullable = true)\n",
      " |-- longitud: string (nullable = true)\n",
      "\n"
     ]
    }
   ],
   "source": [
    "profeco.printSchema()"
   ]
  },
  {
   "cell_type": "code",
   "execution_count": 140,
   "metadata": {},
   "outputs": [
    {
     "data": {
      "text/html": [
       "<div>\n",
       "<style scoped>\n",
       "    .dataframe tbody tr th:only-of-type {\n",
       "        vertical-align: middle;\n",
       "    }\n",
       "\n",
       "    .dataframe tbody tr th {\n",
       "        vertical-align: top;\n",
       "    }\n",
       "\n",
       "    .dataframe thead th {\n",
       "        text-align: right;\n",
       "    }\n",
       "</style>\n",
       "<table border=\"1\" class=\"dataframe\">\n",
       "  <thead>\n",
       "    <tr style=\"text-align: right;\">\n",
       "      <th></th>\n",
       "      <th>producto</th>\n",
       "      <th>catalogo</th>\n",
       "      <th>count(producto)</th>\n",
       "    </tr>\n",
       "  </thead>\n",
       "  <tbody>\n",
       "    <tr>\n",
       "      <th>0</th>\n",
       "      <td>REFRESCO</td>\n",
       "      <td>BASICOS</td>\n",
       "      <td>606666</td>\n",
       "    </tr>\n",
       "    <tr>\n",
       "      <th>1</th>\n",
       "      <td>LECHE ULTRAPASTEURIZADA</td>\n",
       "      <td>BASICOS</td>\n",
       "      <td>544650</td>\n",
       "    </tr>\n",
       "    <tr>\n",
       "      <th>2</th>\n",
       "      <td>DETERGENTE P/ROPA</td>\n",
       "      <td>BASICOS</td>\n",
       "      <td>536527</td>\n",
       "    </tr>\n",
       "    <tr>\n",
       "      <th>3</th>\n",
       "      <td>FUD</td>\n",
       "      <td>BASICOS</td>\n",
       "      <td>445940</td>\n",
       "    </tr>\n",
       "    <tr>\n",
       "      <th>4</th>\n",
       "      <td>CHILES EN LATA</td>\n",
       "      <td>BASICOS</td>\n",
       "      <td>410854</td>\n",
       "    </tr>\n",
       "    <tr>\n",
       "      <th>5</th>\n",
       "      <td>SHAMPOO</td>\n",
       "      <td>BASICOS</td>\n",
       "      <td>403600</td>\n",
       "    </tr>\n",
       "    <tr>\n",
       "      <th>6</th>\n",
       "      <td>MAYONESA</td>\n",
       "      <td>BASICOS</td>\n",
       "      <td>368412</td>\n",
       "    </tr>\n",
       "    <tr>\n",
       "      <th>7</th>\n",
       "      <td>YOGHURT</td>\n",
       "      <td>BASICOS</td>\n",
       "      <td>351895</td>\n",
       "    </tr>\n",
       "    <tr>\n",
       "      <th>8</th>\n",
       "      <td>TOALLA FEMENINA</td>\n",
       "      <td>BASICOS</td>\n",
       "      <td>338932</td>\n",
       "    </tr>\n",
       "    <tr>\n",
       "      <th>9</th>\n",
       "      <td>DESODORANTE</td>\n",
       "      <td>BASICOS</td>\n",
       "      <td>327034</td>\n",
       "    </tr>\n",
       "    <tr>\n",
       "      <th>10</th>\n",
       "      <td>LECHE EN POLVO</td>\n",
       "      <td>BASICOS</td>\n",
       "      <td>323104</td>\n",
       "    </tr>\n",
       "    <tr>\n",
       "      <th>11</th>\n",
       "      <td>CERVEZA</td>\n",
       "      <td>BASICOS</td>\n",
       "      <td>311614</td>\n",
       "    </tr>\n",
       "    <tr>\n",
       "      <th>12</th>\n",
       "      <td>PAN DE CAJA</td>\n",
       "      <td>BASICOS</td>\n",
       "      <td>286954</td>\n",
       "    </tr>\n",
       "    <tr>\n",
       "      <th>13</th>\n",
       "      <td>ACEITE</td>\n",
       "      <td>BASICOS</td>\n",
       "      <td>281605</td>\n",
       "    </tr>\n",
       "    <tr>\n",
       "      <th>14</th>\n",
       "      <td>AGUA SIN GAS</td>\n",
       "      <td>BASICOS</td>\n",
       "      <td>273015</td>\n",
       "    </tr>\n",
       "    <tr>\n",
       "      <th>15</th>\n",
       "      <td>JABON DE TOCADOR</td>\n",
       "      <td>BASICOS</td>\n",
       "      <td>269153</td>\n",
       "    </tr>\n",
       "    <tr>\n",
       "      <th>16</th>\n",
       "      <td>CREMA LIQUIDA</td>\n",
       "      <td>BASICOS</td>\n",
       "      <td>245520</td>\n",
       "    </tr>\n",
       "    <tr>\n",
       "      <th>17</th>\n",
       "      <td>INSECTICIDA AEROSOL</td>\n",
       "      <td>BASICOS</td>\n",
       "      <td>239570</td>\n",
       "    </tr>\n",
       "    <tr>\n",
       "      <th>18</th>\n",
       "      <td>KIR</td>\n",
       "      <td>BASICOS</td>\n",
       "      <td>239190</td>\n",
       "    </tr>\n",
       "    <tr>\n",
       "      <th>19</th>\n",
       "      <td>MARGARINA</td>\n",
       "      <td>BASICOS</td>\n",
       "      <td>229183</td>\n",
       "    </tr>\n",
       "    <tr>\n",
       "      <th>20</th>\n",
       "      <td>GALLETAS</td>\n",
       "      <td>BASICOS</td>\n",
       "      <td>228583</td>\n",
       "    </tr>\n",
       "    <tr>\n",
       "      <th>21</th>\n",
       "      <td>HUEVO</td>\n",
       "      <td>BASICOS</td>\n",
       "      <td>222698</td>\n",
       "    </tr>\n",
       "    <tr>\n",
       "      <th>22</th>\n",
       "      <td>RASTRILLOS DESECHABLES</td>\n",
       "      <td>BASICOS</td>\n",
       "      <td>219739</td>\n",
       "    </tr>\n",
       "    <tr>\n",
       "      <th>23</th>\n",
       "      <td>CARNE RES</td>\n",
       "      <td>BASICOS</td>\n",
       "      <td>219561</td>\n",
       "    </tr>\n",
       "    <tr>\n",
       "      <th>24</th>\n",
       "      <td>JUGO DE FRUTA</td>\n",
       "      <td>BASICOS</td>\n",
       "      <td>216518</td>\n",
       "    </tr>\n",
       "    <tr>\n",
       "      <th>25</th>\n",
       "      <td>ATUN</td>\n",
       "      <td>BASICOS</td>\n",
       "      <td>210370</td>\n",
       "    </tr>\n",
       "    <tr>\n",
       "      <th>26</th>\n",
       "      <td>TORTILLA DE MAIZ</td>\n",
       "      <td>BASICOS</td>\n",
       "      <td>203700</td>\n",
       "    </tr>\n",
       "  </tbody>\n",
       "</table>\n",
       "</div>"
      ],
      "text/plain": [
       "                   producto catalogo  count(producto)\n",
       "0                  REFRESCO  BASICOS           606666\n",
       "1   LECHE ULTRAPASTEURIZADA  BASICOS           544650\n",
       "2         DETERGENTE P/ROPA  BASICOS           536527\n",
       "3                       FUD  BASICOS           445940\n",
       "4            CHILES EN LATA  BASICOS           410854\n",
       "5                   SHAMPOO  BASICOS           403600\n",
       "6                  MAYONESA  BASICOS           368412\n",
       "7                   YOGHURT  BASICOS           351895\n",
       "8           TOALLA FEMENINA  BASICOS           338932\n",
       "9               DESODORANTE  BASICOS           327034\n",
       "10           LECHE EN POLVO  BASICOS           323104\n",
       "11                  CERVEZA  BASICOS           311614\n",
       "12              PAN DE CAJA  BASICOS           286954\n",
       "13                   ACEITE  BASICOS           281605\n",
       "14             AGUA SIN GAS  BASICOS           273015\n",
       "15         JABON DE TOCADOR  BASICOS           269153\n",
       "16            CREMA LIQUIDA  BASICOS           245520\n",
       "17      INSECTICIDA AEROSOL  BASICOS           239570\n",
       "18                      KIR  BASICOS           239190\n",
       "19                MARGARINA  BASICOS           229183\n",
       "20                 GALLETAS  BASICOS           228583\n",
       "21                    HUEVO  BASICOS           222698\n",
       "22   RASTRILLOS DESECHABLES  BASICOS           219739\n",
       "23                CARNE RES  BASICOS           219561\n",
       "24            JUGO DE FRUTA  BASICOS           216518\n",
       "25                     ATUN  BASICOS           210370\n",
       "26         TORTILLA DE MAIZ  BASICOS           203700"
      ]
     },
     "execution_count": 140,
     "metadata": {},
     "output_type": "execute_result"
    }
   ],
   "source": [
    "producto_ventas[producto_ventas['count(producto)']>=200000]"
   ]
  },
  {
   "cell_type": "code",
   "execution_count": 152,
   "metadata": {},
   "outputs": [],
   "source": [
    "ls_productos = producto_ventas.producto.unique().tolist()"
   ]
  },
  {
   "cell_type": "code",
   "execution_count": 94,
   "metadata": {},
   "outputs": [
    {
     "name": "stdout",
     "output_type": "stream",
     "text": [
      "+--------------------+--------------------+--------+----------------+----------------+------+--------------------+------------------+----------+--------------------+--------------------+----------------+--------------------+--------+----------+\n",
      "|            producto|        presentacion|   marca|       categoria|        catalogo|precio|       fechaRegistro|   cadenaComercial|      giro|     nombreComercial|           direccion|          estado|           municipio| latitud|  longitud|\n",
      "+--------------------+--------------------+--------+----------------+----------------+------+--------------------+------------------+----------+--------------------+--------------------+----------------+--------------------+--------+----------+\n",
      "|CUADERNO FORMA IT...|96 HOJAS PASTA DU...|ESTRELLA|MATERIAL ESCOLAR|UTILES ESCOLARES|  25.9|2011-05-18 00:00:...|ABASTECEDORA LUMEN|PAPELERIAS|ABASTECEDORA LUME...|CANNES No. 6 ESQ....|DISTRITO FEDERAL|TLALPAN          ...|19.29699|-99.125417|\n",
      "+--------------------+--------------------+--------+----------------+----------------+------+--------------------+------------------+----------+--------------------+--------------------+----------------+--------------------+--------+----------+\n",
      "only showing top 1 row\n",
      "\n"
     ]
    }
   ],
   "source": [
    "profeco.show(1)"
   ]
  },
  {
   "cell_type": "code",
   "execution_count": 119,
   "metadata": {},
   "outputs": [
    {
     "name": "stdout",
     "output_type": "stream",
     "text": [
      "+--------------------+\n",
      "|       fechaRegistro|\n",
      "+--------------------+\n",
      "|2011-05-18 00:00:...|\n",
      "+--------------------+\n",
      "only showing top 1 row\n",
      "\n"
     ]
    }
   ],
   "source": [
    "profeco.select(\"fechaRegistro\").show(1)"
   ]
  },
  {
   "cell_type": "code",
   "execution_count": 181,
   "metadata": {
    "scrolled": true
   },
   "outputs": [
    {
     "data": {
      "text/plain": [
       "195"
      ]
     },
     "execution_count": 181,
     "metadata": {},
     "output_type": "execute_result"
    }
   ],
   "source": [
    "len(ls_productos)"
   ]
  },
  {
   "cell_type": "code",
   "execution_count": 162,
   "metadata": {},
   "outputs": [],
   "source": [
    "profeco_ = profeco.withColumn(\"fecha\",f.to_date(\"fechaRegistro\",\"yyyy-MM-dd HH:mm:ss.SSS\"))"
   ]
  },
  {
   "cell_type": "code",
   "execution_count": 163,
   "metadata": {},
   "outputs": [],
   "source": [
    "profeco_ = profeco_.filter(f.col(\"producto\").isin(ls_productos))"
   ]
  },
  {
   "cell_type": "code",
   "execution_count": 164,
   "metadata": {},
   "outputs": [],
   "source": [
    "profeco_ = profeco_.withColumn(\"fecha_aniomes\",f.date_format(\"fecha\",\"yyyy-MM\"))"
   ]
  },
  {
   "cell_type": "code",
   "execution_count": 166,
   "metadata": {},
   "outputs": [
    {
     "name": "stdout",
     "output_type": "stream",
     "text": [
      "+-------------+\n",
      "|fecha_aniomes|\n",
      "+-------------+\n",
      "|      2011-01|\n",
      "|      2011-01|\n",
      "|      2011-01|\n",
      "|      2011-01|\n",
      "|      2011-01|\n",
      "|      2011-01|\n",
      "|      2011-01|\n",
      "|      2011-01|\n",
      "|      2011-01|\n",
      "|      2011-01|\n",
      "|      2011-01|\n",
      "|      2011-01|\n",
      "|      2011-01|\n",
      "|      2011-01|\n",
      "|      2011-01|\n",
      "|      2011-01|\n",
      "|      2011-01|\n",
      "|      2011-01|\n",
      "|      2011-01|\n",
      "|      2011-01|\n",
      "+-------------+\n",
      "only showing top 20 rows\n",
      "\n"
     ]
    }
   ],
   "source": [
    "profeco_.select(\"fecha_aniomes\").show()"
   ]
  },
  {
   "cell_type": "code",
   "execution_count": 156,
   "metadata": {},
   "outputs": [
    {
     "data": {
      "text/plain": [
       "20517428"
      ]
     },
     "execution_count": 156,
     "metadata": {},
     "output_type": "execute_result"
    }
   ],
   "source": [
    "profeco_.count()"
   ]
  },
  {
   "cell_type": "markdown",
   "metadata": {},
   "source": [
    "Filtrar productos con mínimo 48 meses de ventas"
   ]
  },
  {
   "cell_type": "code",
   "execution_count": 178,
   "metadata": {},
   "outputs": [],
   "source": [
    "profeco_aniomes = profeco_.groupBy(\"producto\").agg(f.countDistinct(\"fecha_aniomes\"))\n",
    "profeco_aniomes = profeco_aniomes.sort(profeco_aniomes[\"count(fecha_aniomes)\"].desc())\n",
    "profeco_aniomes = profeco_aniomes.filter(profeco_aniomes[\"count(fecha_aniomes)\"]>=48)"
   ]
  },
  {
   "cell_type": "code",
   "execution_count": 179,
   "metadata": {
    "scrolled": false
   },
   "outputs": [
    {
     "name": "stdout",
     "output_type": "stream",
     "text": [
      "+--------------------+--------------------+\n",
      "|            producto|count(fecha_aniomes)|\n",
      "+--------------------+--------------------+\n",
      "|                FLAN|                  48|\n",
      "|               IBERO|                  48|\n",
      "|LECHE ULTRAPASTEU...|                  48|\n",
      "|REPUESTOS DE NAVAJAS|                  48|\n",
      "|     PIÑA EN ALMIBAR|                  48|\n",
      "|          CHILE SECO|                  48|\n",
      "|        AGUA SIN GAS|                  48|\n",
      "|               AVENA|                  48|\n",
      "|CAFE TOSTADO Y MO...|                  48|\n",
      "|            GALLETAS|                  48|\n",
      "|  LECHE PASTEURIZADA|                  48|\n",
      "|     QUESO DE PUERCO|                  48|\n",
      "|       MAIZ POZOLERO|                  48|\n",
      "|       SALSA PICANTE|                  48|\n",
      "|         NOCHE BUENA|                  48|\n",
      "|    SAN RAFAEL. REAL|                  48|\n",
      "|    ACEITUNA. GORDAL|                  48|\n",
      "|            GARBANZA|                  48|\n",
      "|            FRIJOLES|                  48|\n",
      "|               JAMON|                  48|\n",
      "+--------------------+--------------------+\n",
      "only showing top 20 rows\n",
      "\n"
     ]
    }
   ],
   "source": [
    "profeco_aniomes.show()"
   ]
  },
  {
   "cell_type": "code",
   "execution_count": 180,
   "metadata": {},
   "outputs": [
    {
     "data": {
      "text/plain": [
       "167"
      ]
     },
     "execution_count": 180,
     "metadata": {},
     "output_type": "execute_result"
    }
   ],
   "source": [
    "profeco_aniomes.count()"
   ]
  },
  {
   "cell_type": "code",
   "execution_count": 188,
   "metadata": {},
   "outputs": [],
   "source": [
    "ls_productos = profeco_aniomes.select(\"producto\").distinct()"
   ]
  },
  {
   "cell_type": "code",
   "execution_count": 189,
   "metadata": {},
   "outputs": [],
   "source": [
    "ls_productos = [row.producto for row in ls_productos.collect()]"
   ]
  },
  {
   "cell_type": "code",
   "execution_count": 191,
   "metadata": {},
   "outputs": [],
   "source": [
    "profeco_ = profeco_.filter(f.col(\"producto\").isin(ls_productos))"
   ]
  },
  {
   "cell_type": "code",
   "execution_count": 193,
   "metadata": {},
   "outputs": [
    {
     "data": {
      "text/plain": [
       "20101308"
      ]
     },
     "execution_count": 193,
     "metadata": {},
     "output_type": "execute_result"
    }
   ],
   "source": [
    "profeco_.count()"
   ]
  },
  {
   "cell_type": "code",
   "execution_count": 195,
   "metadata": {},
   "outputs": [
    {
     "name": "stdout",
     "output_type": "stream",
     "text": [
      "root\n",
      " |-- producto: string (nullable = true)\n",
      " |-- presentacion: string (nullable = true)\n",
      " |-- marca: string (nullable = true)\n",
      " |-- categoria: string (nullable = true)\n",
      " |-- catalogo: string (nullable = true)\n",
      " |-- precio: string (nullable = true)\n",
      " |-- fechaRegistro: string (nullable = true)\n",
      " |-- cadenaComercial: string (nullable = true)\n",
      " |-- giro: string (nullable = true)\n",
      " |-- nombreComercial: string (nullable = true)\n",
      " |-- direccion: string (nullable = true)\n",
      " |-- estado: string (nullable = true)\n",
      " |-- municipio: string (nullable = true)\n",
      " |-- latitud: string (nullable = true)\n",
      " |-- longitud: string (nullable = true)\n",
      " |-- fecha: date (nullable = true)\n",
      " |-- fecha_aniomes: string (nullable = true)\n",
      "\n"
     ]
    }
   ],
   "source": [
    "profeco_.printSchema()"
   ]
  },
  {
   "cell_type": "markdown",
   "metadata": {},
   "source": [
    "Filtrar aquellos productos que han estado en las 32 entidades"
   ]
  },
  {
   "cell_type": "code",
   "execution_count": 198,
   "metadata": {},
   "outputs": [],
   "source": [
    "estado = profeco_.groupBy(\"producto\").agg(f.countDistinct(\"estado\"))\n",
    "estado = estado.sort(estado[\"count(estado)\"].desc())\n",
    "estado = estado.filter(estado[\"count(estado)\"]>=32)"
   ]
  },
  {
   "cell_type": "code",
   "execution_count": 199,
   "metadata": {},
   "outputs": [
    {
     "name": "stdout",
     "output_type": "stream",
     "text": [
      "+--------------------+-------------+\n",
      "|            producto|count(estado)|\n",
      "+--------------------+-------------+\n",
      "|    TORTILLA DE MAIZ|           33|\n",
      "|  PAN BLANCO BOLILLO|           33|\n",
      "|                FLAN|           32|\n",
      "|     PIÑA EN ALMIBAR|           32|\n",
      "|            GALLETAS|           32|\n",
      "|       SALSA PICANTE|           32|\n",
      "|        AGUA SIN GAS|           32|\n",
      "|               AVENA|           32|\n",
      "|LECHE ULTRAPASTEU...|           32|\n",
      "|         CARNE POLLO|           32|\n",
      "|       MAIZ POZOLERO|           32|\n",
      "|CAFE TOSTADO Y MO...|           32|\n",
      "|            GARBANZA|           32|\n",
      "|            FRIJOLES|           32|\n",
      "|    SAN RAFAEL. REAL|           32|\n",
      "|    ACEITUNA. GORDAL|           32|\n",
      "|     PAPEL HIGIENICO|           32|\n",
      "|         CARNE CERDO|           32|\n",
      "|                 FUD|           32|\n",
      "|ACEITUNA. MANZANILLA|           32|\n",
      "+--------------------+-------------+\n",
      "only showing top 20 rows\n",
      "\n"
     ]
    }
   ],
   "source": [
    "estado.show()"
   ]
  },
  {
   "cell_type": "code",
   "execution_count": 200,
   "metadata": {},
   "outputs": [],
   "source": [
    "ls_productos = estado.select(\"producto\").distinct()\n",
    "ls_productos = [row.producto for row in ls_productos.collect()]"
   ]
  },
  {
   "cell_type": "code",
   "execution_count": 202,
   "metadata": {},
   "outputs": [
    {
     "data": {
      "text/plain": [
       "141"
      ]
     },
     "execution_count": 202,
     "metadata": {},
     "output_type": "execute_result"
    }
   ],
   "source": [
    "len(ls_productos)"
   ]
  },
  {
   "cell_type": "code",
   "execution_count": 203,
   "metadata": {},
   "outputs": [],
   "source": [
    "profeco_ = profeco_.filter(profeco_[\"producto\"].isin(ls_productos))"
   ]
  },
  {
   "cell_type": "code",
   "execution_count": 204,
   "metadata": {},
   "outputs": [
    {
     "data": {
      "text/plain": [
       "19416867"
      ]
     },
     "execution_count": 204,
     "metadata": {},
     "output_type": "execute_result"
    }
   ],
   "source": [
    "profeco_.count()"
   ]
  },
  {
   "cell_type": "markdown",
   "metadata": {},
   "source": [
    "Nos quedamos con 141 productos para la canasta básica con los 3 criterios descritos anteriorimente"
   ]
  },
  {
   "cell_type": "code",
   "execution_count": 205,
   "metadata": {},
   "outputs": [
    {
     "name": "stdout",
     "output_type": "stream",
     "text": [
      "root\n",
      " |-- producto: string (nullable = true)\n",
      " |-- presentacion: string (nullable = true)\n",
      " |-- marca: string (nullable = true)\n",
      " |-- categoria: string (nullable = true)\n",
      " |-- catalogo: string (nullable = true)\n",
      " |-- precio: string (nullable = true)\n",
      " |-- fechaRegistro: string (nullable = true)\n",
      " |-- cadenaComercial: string (nullable = true)\n",
      " |-- giro: string (nullable = true)\n",
      " |-- nombreComercial: string (nullable = true)\n",
      " |-- direccion: string (nullable = true)\n",
      " |-- estado: string (nullable = true)\n",
      " |-- municipio: string (nullable = true)\n",
      " |-- latitud: string (nullable = true)\n",
      " |-- longitud: string (nullable = true)\n",
      " |-- fecha: date (nullable = true)\n",
      " |-- fecha_aniomes: string (nullable = true)\n",
      "\n"
     ]
    }
   ],
   "source": [
    "profeco_.printSchema()"
   ]
  },
  {
   "cell_type": "markdown",
   "metadata": {},
   "source": [
    "### b. ¿Cuál es la ciudad más cara del país?¿Cuál es la más barata?"
   ]
  },
  {
   "cell_type": "markdown",
   "metadata": {},
   "source": []
  },
  {
   "cell_type": "code",
   "execution_count": null,
   "metadata": {},
   "outputs": [],
   "source": []
  },
  {
   "cell_type": "markdown",
   "metadata": {},
   "source": [
    "### c. ¿Hay algún patrón estacional entre años?"
   ]
  },
  {
   "cell_type": "markdown",
   "metadata": {},
   "source": [
    "### d. ¿Cuál es el estado más caro y en qué mes?"
   ]
  },
  {
   "cell_type": "markdown",
   "metadata": {},
   "source": [
    "### e. ¿Cuáles son los principales riesgos de hacer análisis de series de tiempo con estos datos?"
   ]
  },
  {
   "cell_type": "markdown",
   "metadata": {},
   "source": [
    "## Visualización    "
   ]
  },
  {
   "cell_type": "markdown",
   "metadata": {},
   "source": [
    "### a. Genera un mapa que nos permita identificar la oferta de categorías en la zona metropolitana de León Guanajuato y el nivel de precios en cada una de ellas. Se darán puntos extra si el mapa es interactivo"
   ]
  },
  {
   "cell_type": "code",
   "execution_count": null,
   "metadata": {},
   "outputs": [],
   "source": []
  }
 ],
 "metadata": {
  "kernelspec": {
   "display_name": "opi",
   "language": "python",
   "name": "opi"
  },
  "language_info": {
   "codemirror_mode": {
    "name": "ipython",
    "version": 3
   },
   "file_extension": ".py",
   "mimetype": "text/x-python",
   "name": "python",
   "nbconvert_exporter": "python",
   "pygments_lexer": "ipython3",
   "version": "3.8.5"
  },
  "toc": {
   "base_numbering": 1,
   "nav_menu": {},
   "number_sections": true,
   "sideBar": true,
   "skip_h1_title": false,
   "title_cell": "Table of Contents",
   "title_sidebar": "Contents",
   "toc_cell": false,
   "toc_position": {
    "height": "calc(100% - 180px)",
    "left": "10px",
    "top": "150px",
    "width": "307.2px"
   },
   "toc_section_display": true,
   "toc_window_display": true
  }
 },
 "nbformat": 4,
 "nbformat_minor": 4
}
