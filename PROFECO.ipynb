{
 "cells": [
  {
   "cell_type": "markdown",
   "metadata": {},
   "source": [
    "# Sección 2. Quién es quién"
   ]
  },
  {
   "cell_type": "markdown",
   "metadata": {},
   "source": [
    "Descarga la Base de datos histórica de Quién es Quién en los Precios de Profeco y resuelve los\n",
    "siguientes incisos. Para el procesamiento de los datos y el análisis exploratorio debes debes\n",
    "usar Spark SQL, preferentemente, con Python.\n",
    "\n",
    "1. Procesamiento de los datos\n",
    "\n",
    "    a. ¿Cuántos registros hay?\n",
    "    b. ¿Cuántas categorías?\n",
    "    c. ¿Cuántas cadenas comerciales están siendo monitoreadas?\n",
    "    d. ¿Cómo podrías determinar la calidad de los datos? ¿Detectaste algún tipo de\n",
    "    inconsistencia o error en la fuente?\n",
    "    e. ¿Cuáles son los productos más monitoreados en cada entidad?\n",
    "    f. ¿Cuál es la cadena comercial con mayor variedad de productos monitoreados?\n",
    "    \n",
    "2. Análisis exploratorio\n",
    "    a. Genera una canasta de productos básicos que te permita comparar los precios\n",
    "    geográfica y temporalmente. Justifica tu elección y procedimiento\n",
    "    b. ¿Cuál es la ciudad más cara del país?¿Cuál es la más barata?\n",
    "    c. ¿Hay algún patrón estacional entre años?\n",
    "    d. ¿Cuál es el estado más caro y en qué mes?\n",
    "    e. ¿Cuáles son los principales riesgos de hacer análisis de series de tiempo con\n",
    "    estos datos?\n",
    "    \n",
    "3. Visualización\n",
    "    a. Genera un mapa que nos permita identificar la oferta de categorías en la zona\n",
    "    metropolitana de León Guanajuato y el nivel de precios en cada una de ellas. Se\n",
    "    darán puntos extra si el mapa es interactivo"
   ]
  },
  {
   "cell_type": "markdown",
   "metadata": {},
   "source": [
    "# Librerías, sesión y datos"
   ]
  },
  {
   "cell_type": "code",
   "execution_count": 3,
   "metadata": {},
   "outputs": [],
   "source": [
    "from pyspark.sql import SparkSession"
   ]
  },
  {
   "cell_type": "code",
   "execution_count": 5,
   "metadata": {},
   "outputs": [],
   "source": [
    "spark = SparkSession.builder.appName('opi').getOrCreate()"
   ]
  },
  {
   "cell_type": "code",
   "execution_count": 6,
   "metadata": {},
   "outputs": [
    {
     "data": {
      "text/plain": [
       "'3.1.2'"
      ]
     },
     "execution_count": 6,
     "metadata": {},
     "output_type": "execute_result"
    }
   ],
   "source": [
    "spark.version"
   ]
  },
  {
   "cell_type": "code",
   "execution_count": null,
   "metadata": {},
   "outputs": [],
   "source": []
  }
 ],
 "metadata": {
  "kernelspec": {
   "display_name": "opi",
   "language": "python",
   "name": "opi"
  },
  "language_info": {
   "codemirror_mode": {
    "name": "ipython",
    "version": 3
   },
   "file_extension": ".py",
   "mimetype": "text/x-python",
   "name": "python",
   "nbconvert_exporter": "python",
   "pygments_lexer": "ipython3",
   "version": "3.8.5"
  },
  "toc": {
   "base_numbering": 1,
   "nav_menu": {},
   "number_sections": true,
   "sideBar": true,
   "skip_h1_title": false,
   "title_cell": "Table of Contents",
   "title_sidebar": "Contents",
   "toc_cell": false,
   "toc_position": {},
   "toc_section_display": true,
   "toc_window_display": false
  }
 },
 "nbformat": 4,
 "nbformat_minor": 4
}
